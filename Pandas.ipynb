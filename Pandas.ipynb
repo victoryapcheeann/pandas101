{
 "cells": [
  {
   "cell_type": "markdown",
   "metadata": {},
   "source": [
    "# 1) Pandas\n",
    "\n",
    "Pandas is an open-source Python Library providing high-performance data manipulation \n",
    "and analysis tool using its powerful data structures. \n",
    "\n",
    "The name Pandas is derived from the word Panel Data – an Econometrics from Multidimensional data.\n",
    "\n",
    "## Key Features of Pandas\n",
    "- Fast and efficient DataFrame object with default and customized indexing.\n",
    "- Tools for loading data into in-memory data objects from different file formats.\n",
    "- Data alignment and integrated handling of missing data.\n",
    "- Reshaping and pivoting of date sets.\n",
    "- Label-based slicing, indexing and subsetting of large data sets.\n",
    "- Columns from a data structure can be deleted or inserted.\n",
    "- Group by data for aggregation and transformations.\n",
    "- High performance merging and joining of data.\n",
    "- Time Series functionality.\n",
    "\n",
    "## Pandas deals with the following three data structures −\n",
    "- Series\n",
    "- DataFrame\n",
    "- Panel\n",
    "These data structures are built on top of Numpy array, which means they are fast.\n",
    "\n",
    "## Dimension & Description\n",
    "The best way to think of these data structures is that the higher dimensional data structure is a container of its lower dimensional data structure. \n",
    "\n",
    "For example, \n",
    "\n",
    "DataFrame is a container of Series, \n",
    "\n",
    "Panel is a container of DataFrame.\n",
    "\n",
    "|Data| Structure|\tDimensions\tDescription|\n",
    "|-|-|-|\n",
    "|Series|\t1|\t1D labeled homogeneous array, sizeimmutable.|\n",
    "|Data Frames|\t2\t|General 2D labeled, size-mutable tabular structure with potentially heterogeneously typed columns.|\n",
    "|Panel\t|3|\tGeneral 3D labeled, size-mutable array.|\n",
    "\n",
    "Building and handling two or more dimensional arrays is a tedious task, burden is placed on the user to consider the orientation of the data set when writing functions. But using Pandas data structures, the mental effort of the user is reduced.\n",
    "\n",
    "For example, with tabular data (DataFrame) it is more semantically helpful to think of the index (the rows) and the columns rather than axis 0 and axis 1."
   ]
  },
  {
   "cell_type": "markdown",
   "metadata": {},
   "source": [
    "# 2) Python Pandas - Series\n",
    "\n",
    "Series is a one-dimensional labeled array capable of holding data of any type (integer, string, float, python objects, etc.). The axis labels are collectively called index.\n",
    "\n",
    "A pandas Series can be created using the following constructor −"
   ]
  },
  {
   "cell_type": "code",
   "execution_count": null,
   "metadata": {},
   "outputs": [],
   "source": [
    "pandas.Series( data, index, dtype, copy)"
   ]
  },
  {
   "cell_type": "code",
   "execution_count": 5,
   "metadata": {},
   "outputs": [
    {
     "name": "stdout",
     "output_type": "stream",
     "text": [
      "Series([], dtype: float64)\n"
     ]
    },
    {
     "name": "stderr",
     "output_type": "stream",
     "text": [
      "/opt/anaconda3/lib/python3.7/site-packages/ipykernel_launcher.py:4: DeprecationWarning: The default dtype for empty Series will be 'object' instead of 'float64' in a future version. Specify a dtype explicitly to silence this warning.\n",
      "  after removing the cwd from sys.path.\n"
     ]
    }
   ],
   "source": [
    "# A basic series, which can be created is an Empty Series.\n",
    "#import the pandas library and aliasing as pd\n",
    "import pandas as pd\n",
    "s = pd.Series()\n",
    "print(s)"
   ]
  },
  {
   "cell_type": "code",
   "execution_count": 7,
   "metadata": {},
   "outputs": [
    {
     "name": "stdout",
     "output_type": "stream",
     "text": [
      "0    a\n",
      "1    b\n",
      "2    c\n",
      "3    d\n",
      "dtype: object\n"
     ]
    }
   ],
   "source": [
    "# Create a Series from ndarray\n",
    "import pandas as pd\n",
    "import numpy as np\n",
    "data = np.array(['a','b','c','d'])\n",
    "s = pd.Series(data)\n",
    "print(s)"
   ]
  },
  {
   "cell_type": "code",
   "execution_count": 9,
   "metadata": {},
   "outputs": [
    {
     "name": "stdout",
     "output_type": "stream",
     "text": [
      "100    a\n",
      "101    b\n",
      "102    c\n",
      "103    d\n",
      "dtype: object\n"
     ]
    }
   ],
   "source": [
    "# We passed the index values here. Now we can see the customized indexed values in the output.\n",
    "import pandas as pd\n",
    "import numpy as np\n",
    "data = np.array(['a','b','c','d'])\n",
    "s = pd.Series(data,index=[100,101,102,103])\n",
    "print(s)"
   ]
  },
  {
   "cell_type": "code",
   "execution_count": 11,
   "metadata": {},
   "outputs": [
    {
     "name": "stdout",
     "output_type": "stream",
     "text": [
      "a    0.0\n",
      "b    1.0\n",
      "c    2.0\n",
      "dtype: float64\n"
     ]
    }
   ],
   "source": [
    "# Create a Series from dict\n",
    "import pandas as pd\n",
    "import numpy as np\n",
    "data = {'a' : 0., 'b' : 1., 'c' : 2.}\n",
    "s = pd.Series(data)\n",
    "print(s)"
   ]
  },
  {
   "cell_type": "code",
   "execution_count": 13,
   "metadata": {},
   "outputs": [
    {
     "name": "stdout",
     "output_type": "stream",
     "text": [
      "b    1.0\n",
      "c    2.0\n",
      "d    NaN\n",
      "a    0.0\n",
      "dtype: float64\n"
     ]
    }
   ],
   "source": [
    "# Passing index\n",
    "import pandas as pd\n",
    "import numpy as np\n",
    "data = {'a' : 0., 'b' : 1., 'c' : 2.}\n",
    "s = pd.Series(data,index=['b','c','d','a'])\n",
    "print(s)"
   ]
  },
  {
   "cell_type": "code",
   "execution_count": 15,
   "metadata": {},
   "outputs": [
    {
     "name": "stdout",
     "output_type": "stream",
     "text": [
      "0    5\n",
      "1    5\n",
      "2    5\n",
      "3    5\n",
      "dtype: int64\n"
     ]
    }
   ],
   "source": [
    "# Create a Series from Scalar\n",
    "import pandas as pd\n",
    "import numpy as np\n",
    "s = pd.Series(5, index=[0, 1, 2, 3])\n",
    "print(s)"
   ]
  },
  {
   "cell_type": "code",
   "execution_count": 16,
   "metadata": {},
   "outputs": [
    {
     "name": "stdout",
     "output_type": "stream",
     "text": [
      "1\n"
     ]
    }
   ],
   "source": [
    "# Accessing Data from Series with Position\n",
    "import pandas as pd\n",
    "s = pd.Series([1,2,3,4,5],index = ['a','b','c','d','e'])\n",
    "\n",
    "#retrieve the first element\n",
    "print(s[0])"
   ]
  },
  {
   "cell_type": "code",
   "execution_count": 18,
   "metadata": {},
   "outputs": [
    {
     "name": "stdout",
     "output_type": "stream",
     "text": [
      "a    1\n",
      "b    2\n",
      "c    3\n",
      "dtype: int64\n"
     ]
    }
   ],
   "source": [
    "# Retrieve the first three elements in the Series.\n",
    "import pandas as pd\n",
    "s = pd.Series([1,2,3,4,5],index = ['a','b','c','d','e'])\n",
    "\n",
    "#retrieve the first three element\n",
    "print(s[:3])"
   ]
  },
  {
   "cell_type": "code",
   "execution_count": 20,
   "metadata": {},
   "outputs": [
    {
     "name": "stdout",
     "output_type": "stream",
     "text": [
      "c    3\n",
      "d    4\n",
      "e    5\n",
      "dtype: int64\n"
     ]
    }
   ],
   "source": [
    "# Retrieve the last three elements.\n",
    "import pandas as pd\n",
    "s = pd.Series([1,2,3,4,5],index = ['a','b','c','d','e'])\n",
    "\n",
    "#retrieve the last three element\n",
    "print(s[-3:])"
   ]
  },
  {
   "cell_type": "code",
   "execution_count": 21,
   "metadata": {},
   "outputs": [
    {
     "name": "stdout",
     "output_type": "stream",
     "text": [
      "1\n"
     ]
    }
   ],
   "source": [
    "# Retrieve Data Using Label (Index)\n",
    "import pandas as pd\n",
    "s = pd.Series([1,2,3,4,5],index = ['a','b','c','d','e'])\n",
    "\n",
    "#retrieve a single element\n",
    "print(s['a'])"
   ]
  },
  {
   "cell_type": "code",
   "execution_count": 23,
   "metadata": {},
   "outputs": [
    {
     "name": "stdout",
     "output_type": "stream",
     "text": [
      "a    1\n",
      "c    3\n",
      "d    4\n",
      "dtype: int64\n"
     ]
    }
   ],
   "source": [
    "# Retrieve multiple elements using a list of index label values.\n",
    "import pandas as pd\n",
    "s = pd.Series([1,2,3,4,5],index = ['a','b','c','d','e'])\n",
    "\n",
    "#retrieve multiple elements\n",
    "print(s[['a','c','d']])"
   ]
  },
  {
   "cell_type": "code",
   "execution_count": null,
   "metadata": {},
   "outputs": [],
   "source": [
    "# If a label is not contained, an exception is raised.\n",
    "import pandas as pd\n",
    "s = pd.Series([1,2,3,4,5],index = ['a','b','c','d','e'])\n",
    "\n",
    "#retrieve multiple elements\n",
    "print(s['f'])"
   ]
  },
  {
   "cell_type": "markdown",
   "metadata": {},
   "source": [
    "# 3) Python Pandas - DataFrame\n",
    "\n",
    "A Data frame is a two-dimensional data structure, i.e., data is aligned in a tabular fashion in rows and columns.\n",
    "\n",
    "- Features of DataFrame\n",
    "- Potentially columns are of different types\n",
    "- Size – Mutable\n",
    "- Labeled axes (rows and columns)\n",
    "- Can Perform Arithmetic operations on rows and columns\n",
    "\n",
    "A pandas DataFrame can be created using the following constructor −"
   ]
  },
  {
   "cell_type": "code",
   "execution_count": null,
   "metadata": {},
   "outputs": [],
   "source": [
    "pandas.DataFrame( data, index, columns, dtype, copy)"
   ]
  },
  {
   "cell_type": "code",
   "execution_count": 27,
   "metadata": {},
   "outputs": [
    {
     "name": "stdout",
     "output_type": "stream",
     "text": [
      "Empty DataFrame\n",
      "Columns: []\n",
      "Index: []\n"
     ]
    }
   ],
   "source": [
    "# Create an Empty DataFrame\n",
    "#import the pandas library and aliasing as pd\n",
    "import pandas as pd\n",
    "df = pd.DataFrame()\n",
    "print(df)"
   ]
  },
  {
   "cell_type": "code",
   "execution_count": 29,
   "metadata": {},
   "outputs": [
    {
     "name": "stdout",
     "output_type": "stream",
     "text": [
      "   0\n",
      "0  1\n",
      "1  2\n",
      "2  3\n",
      "3  4\n",
      "4  5\n"
     ]
    }
   ],
   "source": [
    "# Create a DataFrame from Lists\n",
    "import pandas as pd\n",
    "data = [1,2,3,4,5]\n",
    "df = pd.DataFrame(data)\n",
    "print(df)"
   ]
  },
  {
   "cell_type": "code",
   "execution_count": 31,
   "metadata": {},
   "outputs": [
    {
     "name": "stdout",
     "output_type": "stream",
     "text": [
      "     Name  Age\n",
      "0    Alex   10\n",
      "1     Bob   12\n",
      "2  Clarke   13\n"
     ]
    }
   ],
   "source": [
    "import pandas as pd\n",
    "data = [['Alex',10],['Bob',12],['Clarke',13]]\n",
    "df = pd.DataFrame(data,columns=['Name','Age'])\n",
    "print(df)"
   ]
  },
  {
   "cell_type": "code",
   "execution_count": 32,
   "metadata": {},
   "outputs": [
    {
     "name": "stdout",
     "output_type": "stream",
     "text": [
      "     Name   Age\n",
      "0    Alex  10.0\n",
      "1     Bob  12.0\n",
      "2  Clarke  13.0\n"
     ]
    }
   ],
   "source": [
    "import pandas as pd\n",
    "data = [['Alex',10],['Bob',12],['Clarke',13]]\n",
    "df = pd.DataFrame(data,columns=['Name','Age'],dtype=float)\n",
    "print(df)"
   ]
  },
  {
   "cell_type": "markdown",
   "metadata": {},
   "source": [
    "## 3.1) Create a DataFrame from Dict of ndarrays / Lists\n",
    "All the ndarrays must be of same length. If index is passed, then the length of the index should equal to the length of the arrays.\n",
    "\n",
    "If no index is passed, then by default, index will be range(n), where n is the array length."
   ]
  },
  {
   "cell_type": "code",
   "execution_count": 33,
   "metadata": {},
   "outputs": [
    {
     "name": "stdout",
     "output_type": "stream",
     "text": [
      "    Name  Age\n",
      "0    Tom   28\n",
      "1   Jack   34\n",
      "2  Steve   29\n",
      "3  Ricky   42\n"
     ]
    }
   ],
   "source": [
    "import pandas as pd\n",
    "data = {'Name':['Tom', 'Jack', 'Steve', 'Ricky'],'Age':[28,34,29,42]}\n",
    "df = pd.DataFrame(data)\n",
    "print(df)"
   ]
  },
  {
   "cell_type": "code",
   "execution_count": 34,
   "metadata": {},
   "outputs": [
    {
     "name": "stdout",
     "output_type": "stream",
     "text": [
      "        Name  Age\n",
      "rank1    Tom   28\n",
      "rank2   Jack   34\n",
      "rank3  Steve   29\n",
      "rank4  Ricky   42\n"
     ]
    }
   ],
   "source": [
    "# Let us now create an indexed DataFrame using arrays.\n",
    "import pandas as pd\n",
    "data = {'Name':['Tom', 'Jack', 'Steve', 'Ricky'],'Age':[28,34,29,42]}\n",
    "df = pd.DataFrame(data, index=['rank1','rank2','rank3','rank4'])\n",
    "print(df)"
   ]
  },
  {
   "cell_type": "markdown",
   "metadata": {},
   "source": [
    "## 3.2) Create a DataFrame from List of Dicts\n",
    "\n",
    "List of Dictionaries can be passed as input data to create a DataFrame. The dictionary keys are by default taken as column names."
   ]
  },
  {
   "cell_type": "code",
   "execution_count": 36,
   "metadata": {},
   "outputs": [
    {
     "name": "stdout",
     "output_type": "stream",
     "text": [
      "   a   b     c\n",
      "0  1   2   NaN\n",
      "1  5  10  20.0\n"
     ]
    }
   ],
   "source": [
    "# The following example shows how to create a DataFrame by passing a list of dictionaries.\n",
    "import pandas as pd\n",
    "data = [{'a': 1, 'b': 2},{'a': 5, 'b': 10, 'c': 20}]\n",
    "df = pd.DataFrame(data)\n",
    "print(df)\n",
    "\n",
    "# Note − Observe, NaN (Not a Number) is appended in missing areas."
   ]
  },
  {
   "cell_type": "code",
   "execution_count": 37,
   "metadata": {},
   "outputs": [
    {
     "name": "stdout",
     "output_type": "stream",
     "text": [
      "        a   b     c\n",
      "first   1   2   NaN\n",
      "second  5  10  20.0\n"
     ]
    }
   ],
   "source": [
    "# The following example shows how to create a DataFrame by passing a list of dictionaries and the row indices.\n",
    "import pandas as pd\n",
    "data = [{'a': 1, 'b': 2},{'a': 5, 'b': 10, 'c': 20}]\n",
    "df = pd.DataFrame(data, index=['first', 'second'])\n",
    "print(df)"
   ]
  },
  {
   "cell_type": "code",
   "execution_count": 38,
   "metadata": {},
   "outputs": [
    {
     "name": "stdout",
     "output_type": "stream",
     "text": [
      "        a   b\n",
      "first   1   2\n",
      "second  5  10\n",
      "        a  b1\n",
      "first   1 NaN\n",
      "second  5 NaN\n"
     ]
    }
   ],
   "source": [
    "# The following example shows how to create a DataFrame with a list of dictionaries, row indices, and column indices.\n",
    "import pandas as pd\n",
    "data = [{'a': 1, 'b': 2},{'a': 5, 'b': 10, 'c': 20}]\n",
    "\n",
    "#With two column indices, values same as dictionary keys\n",
    "df1 = pd.DataFrame(data, index=['first', 'second'], columns=['a', 'b'])\n",
    "\n",
    "#With two column indices with one index with other name\n",
    "df2 = pd.DataFrame(data, index=['first', 'second'], columns=['a', 'b1'])\n",
    "print(df1)\n",
    "print(df2)"
   ]
  },
  {
   "cell_type": "markdown",
   "metadata": {},
   "source": [
    "## 3.3) Create a DataFrame from Dict of Series\n",
    "\n",
    "Dictionary of Series can be passed to form a DataFrame. The resultant index is the union of all the series indexes passed.\n",
    "\n",
    "Note − Observe, for the series one, there is no label ‘d’ passed, but in the result, for the d label, NaN is appended with NaN.\n",
    "\n",
    "Let us now understand column selection, addition, and deletion through examples."
   ]
  },
  {
   "cell_type": "code",
   "execution_count": 39,
   "metadata": {},
   "outputs": [
    {
     "name": "stdout",
     "output_type": "stream",
     "text": [
      "   one  two\n",
      "a  1.0    1\n",
      "b  2.0    2\n",
      "c  3.0    3\n",
      "d  NaN    4\n"
     ]
    }
   ],
   "source": [
    "import pandas as pd\n",
    "\n",
    "d = {'one' : pd.Series([1, 2, 3], index=['a', 'b', 'c']),\n",
    "   'two' : pd.Series([1, 2, 3, 4], index=['a', 'b', 'c', 'd'])}\n",
    "\n",
    "df = pd.DataFrame(d)\n",
    "print(df)"
   ]
  },
  {
   "cell_type": "markdown",
   "metadata": {},
   "source": [
    "## 3.4) Column Selection\n",
    "\n",
    "We will understand this by selecting a column from the DataFrame."
   ]
  },
  {
   "cell_type": "code",
   "execution_count": 40,
   "metadata": {},
   "outputs": [
    {
     "name": "stdout",
     "output_type": "stream",
     "text": [
      "a    1.0\n",
      "b    2.0\n",
      "c    3.0\n",
      "d    NaN\n",
      "Name: one, dtype: float64\n"
     ]
    }
   ],
   "source": [
    "import pandas as pd\n",
    "\n",
    "d = {'one' : pd.Series([1, 2, 3], index=['a', 'b', 'c']),\n",
    "   'two' : pd.Series([1, 2, 3, 4], index=['a', 'b', 'c', 'd'])}\n",
    "\n",
    "df = pd.DataFrame(d)\n",
    "print(df['one'])"
   ]
  },
  {
   "cell_type": "markdown",
   "metadata": {},
   "source": [
    "## 3.5) Column Addition\n",
    "We will understand this by adding a new column to an existing data frame."
   ]
  },
  {
   "cell_type": "code",
   "execution_count": 41,
   "metadata": {},
   "outputs": [
    {
     "name": "stdout",
     "output_type": "stream",
     "text": [
      "Adding a new column by passing as Series:\n",
      "   one  two  three\n",
      "a  1.0    1   10.0\n",
      "b  2.0    2   20.0\n",
      "c  3.0    3   30.0\n",
      "d  NaN    4    NaN\n",
      "Adding a new column using the existing columns in DataFrame:\n",
      "   one  two  three  four\n",
      "a  1.0    1   10.0  11.0\n",
      "b  2.0    2   20.0  22.0\n",
      "c  3.0    3   30.0  33.0\n",
      "d  NaN    4    NaN   NaN\n"
     ]
    }
   ],
   "source": [
    "import pandas as pd\n",
    "\n",
    "d = {'one' : pd.Series([1, 2, 3], index=['a', 'b', 'c']),\n",
    "   'two' : pd.Series([1, 2, 3, 4], index=['a', 'b', 'c', 'd'])}\n",
    "\n",
    "df = pd.DataFrame(d)\n",
    "\n",
    "# Adding a new column to an existing DataFrame object with column label by passing new series\n",
    "\n",
    "print (\"Adding a new column by passing as Series:\")\n",
    "df['three']=pd.Series([10,20,30],index=['a','b','c'])\n",
    "print(df)\n",
    "\n",
    "print (\"Adding a new column using the existing columns in DataFrame:\")\n",
    "df['four']=df['one']+df['three']\n",
    "\n",
    "print(df)"
   ]
  },
  {
   "cell_type": "markdown",
   "metadata": {},
   "source": [
    "## 3.6) Column Deletion\n",
    "Columns can be deleted or popped; let us take an example to understand how."
   ]
  },
  {
   "cell_type": "code",
   "execution_count": 42,
   "metadata": {},
   "outputs": [
    {
     "name": "stdout",
     "output_type": "stream",
     "text": [
      "Our dataframe is:\n",
      "   one  two  three\n",
      "a  1.0    1   10.0\n",
      "b  2.0    2   20.0\n",
      "c  3.0    3   30.0\n",
      "d  NaN    4    NaN\n",
      "Deleting the first column using DEL function:\n",
      "   two  three\n",
      "a    1   10.0\n",
      "b    2   20.0\n",
      "c    3   30.0\n",
      "d    4    NaN\n",
      "Deleting another column using POP function:\n",
      "   three\n",
      "a   10.0\n",
      "b   20.0\n",
      "c   30.0\n",
      "d    NaN\n"
     ]
    }
   ],
   "source": [
    "# Using the previous DataFrame, we will delete a column\n",
    "# using del function\n",
    "import pandas as pd\n",
    "d = {'one' : pd.Series([1, 2, 3], index=['a', 'b', 'c']), \n",
    "   'two' : pd.Series([1, 2, 3, 4], index=['a', 'b', 'c', 'd']), \n",
    "   'three' : pd.Series([10,20,30], index=['a','b','c'])}\n",
    "\n",
    "df = pd.DataFrame(d)\n",
    "print (\"Our dataframe is:\")\n",
    "print(df)\n",
    "\n",
    "# using del function\n",
    "print (\"Deleting the first column using DEL function:\")\n",
    "del df['one']\n",
    "print(df)\n",
    "\n",
    "# using pop function\n",
    "print (\"Deleting another column using POP function:\")\n",
    "df.pop('two')\n",
    "print(df)"
   ]
  },
  {
   "cell_type": "markdown",
   "metadata": {},
   "source": [
    "## 3.7) Row Selection, Addition, and Deletion\n",
    "We will now understand row selection, addition and deletion through examples. \n",
    "\n",
    "Let us begin with the concept of selection.\n",
    "\n",
    "### 3.7.1) Selection by Label\n",
    "\n",
    "Rows can be selected by passing row label to a loc function."
   ]
  },
  {
   "cell_type": "code",
   "execution_count": 43,
   "metadata": {},
   "outputs": [
    {
     "name": "stdout",
     "output_type": "stream",
     "text": [
      "one    2.0\n",
      "two    2.0\n",
      "Name: b, dtype: float64\n"
     ]
    }
   ],
   "source": [
    "import pandas as pd\n",
    "\n",
    "d = {'one' : pd.Series([1, 2, 3], index=['a', 'b', 'c']), \n",
    "   'two' : pd.Series([1, 2, 3, 4], index=['a', 'b', 'c', 'd'])}\n",
    "\n",
    "df = pd.DataFrame(d)\n",
    "print(df.loc['b'])"
   ]
  },
  {
   "cell_type": "markdown",
   "metadata": {},
   "source": [
    "### 3.7.2) Selection by integer location\n",
    "Rows can be selected by passing integer location to an iloc function."
   ]
  },
  {
   "cell_type": "code",
   "execution_count": 44,
   "metadata": {},
   "outputs": [
    {
     "name": "stdout",
     "output_type": "stream",
     "text": [
      "one    3.0\n",
      "two    3.0\n",
      "Name: c, dtype: float64\n"
     ]
    }
   ],
   "source": [
    "import pandas as pd\n",
    "\n",
    "d = {'one' : pd.Series([1, 2, 3], index=['a', 'b', 'c']),\n",
    "   'two' : pd.Series([1, 2, 3, 4], index=['a', 'b', 'c', 'd'])}\n",
    "\n",
    "df = pd.DataFrame(d)\n",
    "print(df.iloc[2])"
   ]
  },
  {
   "cell_type": "markdown",
   "metadata": {},
   "source": [
    "### 3.7.3) Slice Rows\n",
    "Multiple rows can be selected using ‘ : ’ operator."
   ]
  },
  {
   "cell_type": "code",
   "execution_count": 45,
   "metadata": {},
   "outputs": [
    {
     "name": "stdout",
     "output_type": "stream",
     "text": [
      "   one  two\n",
      "c  3.0    3\n",
      "d  NaN    4\n"
     ]
    }
   ],
   "source": [
    "import pandas as pd\n",
    "\n",
    "d = {'one' : pd.Series([1, 2, 3], index=['a', 'b', 'c']), \n",
    "   'two' : pd.Series([1, 2, 3, 4], index=['a', 'b', 'c', 'd'])}\n",
    "\n",
    "df = pd.DataFrame(d)\n",
    "print(df[2:4])"
   ]
  },
  {
   "cell_type": "markdown",
   "metadata": {},
   "source": [
    "## 3.7.4) Addition of Rows\n",
    "Add new rows to a DataFrame using the append function. This function will append the rows at the end."
   ]
  },
  {
   "cell_type": "code",
   "execution_count": 46,
   "metadata": {},
   "outputs": [
    {
     "name": "stdout",
     "output_type": "stream",
     "text": [
      "   a  b\n",
      "0  1  2\n",
      "1  3  4\n",
      "0  5  6\n",
      "1  7  8\n"
     ]
    }
   ],
   "source": [
    "import pandas as pd\n",
    "\n",
    "df = pd.DataFrame([[1, 2], [3, 4]], columns = ['a','b'])\n",
    "df2 = pd.DataFrame([[5, 6], [7, 8]], columns = ['a','b'])\n",
    "\n",
    "df = df.append(df2)\n",
    "print(df)"
   ]
  },
  {
   "cell_type": "markdown",
   "metadata": {},
   "source": [
    "## 3.7.5) Deletion of Rows\n",
    "Use index label to delete or drop rows from a DataFrame. If label is duplicated, then multiple rows will be dropped.\n",
    "\n",
    "If you observe, in the above example, the labels are duplicate. Let us drop a label and will see how many rows will get dropped."
   ]
  },
  {
   "cell_type": "code",
   "execution_count": 47,
   "metadata": {},
   "outputs": [
    {
     "name": "stdout",
     "output_type": "stream",
     "text": [
      "   a  b\n",
      "1  3  4\n",
      "1  7  8\n"
     ]
    }
   ],
   "source": [
    "import pandas as pd\n",
    "\n",
    "df = pd.DataFrame([[1, 2], [3, 4]], columns = ['a','b'])\n",
    "df2 = pd.DataFrame([[5, 6], [7, 8]], columns = ['a','b'])\n",
    "\n",
    "df = df.append(df2)\n",
    "\n",
    "# Drop rows with label 0\n",
    "df = df.drop(0)\n",
    "\n",
    "print(df)"
   ]
  },
  {
   "cell_type": "markdown",
   "metadata": {},
   "source": [
    "# 4) Python Pandas - Xarray\n",
    "-Pandas panel has been removed, explore Xarray later\n"
   ]
  },
  {
   "cell_type": "markdown",
   "metadata": {},
   "source": [
    "# 5) Python Pandas - Basic Functionality\n",
    "\n",
    "### Series Basic Functionality\n",
    "|Sr.No.|\tAttribute or Method & Description|\n",
    "|-|-|\n",
    "|1|axes<br> Returns a list of the row axis labels|\n",
    "|2|dtype<br> Returns the dtype of the object.|\n",
    "|3|empty<br> Returns True if series is empty.|\n",
    "|4|ndim<br> Returns the number of dimensions of the underlying data, by definition 1.|\n",
    "|5|size<br> Returns the number of elements in the underlying data.|\n",
    "|6|values<br> Returns the Series as ndarray.|\n",
    "|7|head()<br> Returns the first n rows.|\n",
    "|8|tail()<br> Returns the last n rows.|"
   ]
  },
  {
   "cell_type": "code",
   "execution_count": 9,
   "metadata": {},
   "outputs": [
    {
     "name": "stdout",
     "output_type": "stream",
     "text": [
      "0   -1.458714\n",
      "1    0.475064\n",
      "2    0.456089\n",
      "3   -0.015047\n",
      "dtype: float64\n"
     ]
    }
   ],
   "source": [
    "import pandas as pd\n",
    "import numpy as np\n",
    "\n",
    "#Create a series with 100 random numbers\n",
    "s = pd.Series(np.random.randn(4))\n",
    "print(s)"
   ]
  },
  {
   "cell_type": "code",
   "execution_count": 10,
   "metadata": {},
   "outputs": [
    {
     "name": "stdout",
     "output_type": "stream",
     "text": [
      "The axes are:\n",
      "[RangeIndex(start=0, stop=4, step=1)]\n"
     ]
    }
   ],
   "source": [
    "# axes\n",
    "# Returns the list of the labels of the series.\n",
    "s = pd.Series(np.random.randn(4))\n",
    "print(\"The axes are:\")\n",
    "print(s.axes)"
   ]
  },
  {
   "cell_type": "code",
   "execution_count": 11,
   "metadata": {},
   "outputs": [
    {
     "name": "stdout",
     "output_type": "stream",
     "text": [
      "Is the Object empty?\n",
      "False\n"
     ]
    }
   ],
   "source": [
    "# empty\n",
    "# Returns the Boolean value saying whether the Object is empty or not. True indicates that the object is empty.\n",
    "s = pd.Series(np.random.randn(4))\n",
    "print(\"Is the Object empty?\")\n",
    "print(s.empty)"
   ]
  },
  {
   "cell_type": "code",
   "execution_count": 12,
   "metadata": {},
   "outputs": [
    {
     "name": "stdout",
     "output_type": "stream",
     "text": [
      "The dimensions of the object:\n",
      "1\n"
     ]
    }
   ],
   "source": [
    "# ndim\n",
    "# Returns the number of dimensions of the object. \n",
    "# By definition, a Series is a 1D data structure, so it returns\n",
    "s = pd.Series(np.random.randn(4))\n",
    "print (\"The dimensions of the object:\")\n",
    "print(s.ndim)"
   ]
  },
  {
   "cell_type": "code",
   "execution_count": 13,
   "metadata": {},
   "outputs": [
    {
     "name": "stdout",
     "output_type": "stream",
     "text": [
      "The size of the object:\n",
      "2\n"
     ]
    }
   ],
   "source": [
    "# size\n",
    "# Returns the size(length) of the series.\n",
    "s = pd.Series(np.random.randn(2))\n",
    "print(\"The size of the object:\")\n",
    "print(s.size)"
   ]
  },
  {
   "cell_type": "code",
   "execution_count": 17,
   "metadata": {},
   "outputs": [
    {
     "name": "stdout",
     "output_type": "stream",
     "text": [
      "The actual data series is:\n",
      "[ 2.12879776  1.5501582   0.34871063 -1.58515656]\n"
     ]
    }
   ],
   "source": [
    "# values\n",
    "# Returns the actual data in the series as an array.\n",
    "s = pd.Series(np.random.randn(4))\n",
    "print (\"The actual data series is:\")\n",
    "print(s.values)"
   ]
  },
  {
   "cell_type": "code",
   "execution_count": 20,
   "metadata": {},
   "outputs": [
    {
     "name": "stdout",
     "output_type": "stream",
     "text": [
      "The original series is:\n",
      "0   -0.526445\n",
      "1   -0.602228\n",
      "2    0.022171\n",
      "3   -1.246760\n",
      "dtype: float64\n",
      "The first two rows of the data series:\n",
      "0   -0.526445\n",
      "1   -0.602228\n",
      "dtype: float64\n",
      "The last two rows of the data series:\n",
      "2    0.022171\n",
      "3   -1.246760\n",
      "dtype: float64\n"
     ]
    }
   ],
   "source": [
    "# Head & Tail\n",
    "# To view a small sample of a Series or the DataFrame object, use the head() and the tail() methods.\n",
    "s = pd.Series(np.random.randn(4))\n",
    "print (\"The original series is:\")\n",
    "print (s)\n",
    "print (\"The first two rows of the data series:\")\n",
    "print (s.head(2))\n",
    "print (\"The last two rows of the data series:\")\n",
    "print (s.tail(2))"
   ]
  },
  {
   "cell_type": "markdown",
   "metadata": {},
   "source": [
    "## DataFrame Basic Functionality\n",
    "\n",
    "|Sr.No.\t| Attribute or Method & Description|\n",
    "|-|-|\n",
    "|1\t|T <br> Transposes rows and columns.|\n",
    "|2\t|axes <br> Returns a list with the row axis labels and column axis labels as the only members.|\n",
    "|3\t|dtypes <br> Returns the dtypes in this object.|\n",
    "|4\t|empty <br> True if NDFrame is entirely empty [no items]; if any of the axes are of length 0.|\n",
    "|5 |ndim <br> Number of axes / array dimensions.|\n",
    "|6 |shape <br> Returns a tuple representing the dimensionality of the DataFrame.|\n",
    "|7 |size <br> Number of elements in the NDFrame.|\n",
    "|8 |values <br> Numpy representation of NDFrame.|\n",
    "|9 |head() <br> Returns the first n rows.|\n",
    "|10 |tail() <br> Returns last n rows.|"
   ]
  },
  {
   "cell_type": "code",
   "execution_count": 22,
   "metadata": {},
   "outputs": [
    {
     "name": "stdout",
     "output_type": "stream",
     "text": [
      "Our data series is:\n",
      "    Name  Age  Rating\n",
      "0    Tom   25    4.23\n",
      "1  James   26    3.24\n",
      "2  Ricky   25    3.98\n",
      "3    Vin   23    2.56\n",
      "4  Steve   30    3.20\n",
      "5  Smith   29    4.60\n",
      "6   Jack   23    3.80\n"
     ]
    }
   ],
   "source": [
    "#Create a Dictionary of series\n",
    "d = {'Name':pd.Series(['Tom','James','Ricky','Vin','Steve','Smith','Jack']),\n",
    "   'Age':pd.Series([25,26,25,23,30,29,23]),\n",
    "   'Rating':pd.Series([4.23,3.24,3.98,2.56,3.20,4.6,3.8])}\n",
    "\n",
    "#Create a DataFrame\n",
    "df = pd.DataFrame(d)\n",
    "print (\"Our data series is:\")\n",
    "print (df)"
   ]
  },
  {
   "cell_type": "code",
   "execution_count": 23,
   "metadata": {},
   "outputs": [
    {
     "name": "stdout",
     "output_type": "stream",
     "text": [
      "The transpose of the data series is:\n",
      "           0      1      2     3      4      5     6\n",
      "Name     Tom  James  Ricky   Vin  Steve  Smith  Jack\n",
      "Age       25     26     25    23     30     29    23\n",
      "Rating  4.23   3.24   3.98  2.56    3.2    4.6   3.8\n"
     ]
    }
   ],
   "source": [
    "# T (Transpose)\n",
    "# Returns the transpose of the DataFrame. The rows and columns will interchange.\n",
    "# Create a Dictionary of series\n",
    "d = {'Name':pd.Series(['Tom','James','Ricky','Vin','Steve','Smith','Jack']),\n",
    "   'Age':pd.Series([25,26,25,23,30,29,23]),\n",
    "   'Rating':pd.Series([4.23,3.24,3.98,2.56,3.20,4.6,3.8])}\n",
    "\n",
    "# Create a DataFrame\n",
    "df = pd.DataFrame(d)\n",
    "print (\"The transpose of the data series is:\")\n",
    "print (df.T)"
   ]
  },
  {
   "cell_type": "code",
   "execution_count": 24,
   "metadata": {},
   "outputs": [
    {
     "name": "stdout",
     "output_type": "stream",
     "text": [
      "Row axis labels and column axis labels are:\n",
      "[RangeIndex(start=0, stop=7, step=1), Index(['Name', 'Age', 'Rating'], dtype='object')]\n"
     ]
    }
   ],
   "source": [
    "# axes\n",
    "# Returns the list of row axis labels and column axis labels.\n",
    "#Create a Dictionary of series\n",
    "d = {'Name':pd.Series(['Tom','James','Ricky','Vin','Steve','Smith','Jack']),\n",
    "   'Age':pd.Series([25,26,25,23,30,29,23]),\n",
    "   'Rating':pd.Series([4.23,3.24,3.98,2.56,3.20,4.6,3.8])}\n",
    "\n",
    "#Create a DataFrame\n",
    "df = pd.DataFrame(d)\n",
    "print (\"Row axis labels and column axis labels are:\")\n",
    "print (df.axes)"
   ]
  },
  {
   "cell_type": "code",
   "execution_count": 25,
   "metadata": {},
   "outputs": [
    {
     "name": "stdout",
     "output_type": "stream",
     "text": [
      "The data types of each column are:\n",
      "Name       object\n",
      "Age         int64\n",
      "Rating    float64\n",
      "dtype: object\n"
     ]
    }
   ],
   "source": [
    "# dtypes\n",
    "# Returns the data type of each column.\n",
    "#Create a Dictionary of series\n",
    "d = {'Name':pd.Series(['Tom','James','Ricky','Vin','Steve','Smith','Jack']),\n",
    "   'Age':pd.Series([25,26,25,23,30,29,23]),\n",
    "   'Rating':pd.Series([4.23,3.24,3.98,2.56,3.20,4.6,3.8])}\n",
    "\n",
    "#Create a DataFrame\n",
    "df = pd.DataFrame(d)\n",
    "print (\"The data types of each column are:\")\n",
    "print (df.dtypes)"
   ]
  },
  {
   "cell_type": "code",
   "execution_count": 26,
   "metadata": {},
   "outputs": [
    {
     "name": "stdout",
     "output_type": "stream",
     "text": [
      "Is the object empty?\n",
      "False\n"
     ]
    }
   ],
   "source": [
    "# empty\n",
    "# Returns the Boolean value saying whether the Object is empty or not; True indicates that the object is empty.\n",
    "\n",
    "#Create a Dictionary of series\n",
    "d = {'Name':pd.Series(['Tom','James','Ricky','Vin','Steve','Smith','Jack']),\n",
    "   'Age':pd.Series([25,26,25,23,30,29,23]),\n",
    "   'Rating':pd.Series([4.23,3.24,3.98,2.56,3.20,4.6,3.8])}\n",
    " \n",
    "#Create a DataFrame\n",
    "df = pd.DataFrame(d)\n",
    "print (\"Is the object empty?\")\n",
    "print (df.empty)\n"
   ]
  },
  {
   "cell_type": "code",
   "execution_count": 27,
   "metadata": {},
   "outputs": [
    {
     "name": "stdout",
     "output_type": "stream",
     "text": [
      "Our object is:\n",
      "    Name  Age  Rating\n",
      "0    Tom   25    4.23\n",
      "1  James   26    3.24\n",
      "2  Ricky   25    3.98\n",
      "3    Vin   23    2.56\n",
      "4  Steve   30    3.20\n",
      "5  Smith   29    4.60\n",
      "6   Jack   23    3.80\n",
      "The dimension of the object is:\n",
      "2\n"
     ]
    }
   ],
   "source": [
    "# ndim\n",
    "# Returns the number of dimensions of the object. By definition, DataFrame is a 2D object.\n",
    "#Create a Dictionary of series\n",
    "d = {'Name':pd.Series(['Tom','James','Ricky','Vin','Steve','Smith','Jack']),\n",
    "   'Age':pd.Series([25,26,25,23,30,29,23]),\n",
    "   'Rating':pd.Series([4.23,3.24,3.98,2.56,3.20,4.6,3.8])}\n",
    "\n",
    "#Create a DataFrame\n",
    "df = pd.DataFrame(d)\n",
    "print (\"Our object is:\")\n",
    "print (df)\n",
    "print (\"The dimension of the object is:\")\n",
    "print (df.ndim)"
   ]
  },
  {
   "cell_type": "code",
   "execution_count": 28,
   "metadata": {},
   "outputs": [
    {
     "name": "stdout",
     "output_type": "stream",
     "text": [
      "Our object is:\n",
      "    Name  Age  Rating\n",
      "0    Tom   25    4.23\n",
      "1  James   26    3.24\n",
      "2  Ricky   25    3.98\n",
      "3    Vin   23    2.56\n",
      "4  Steve   30    3.20\n",
      "5  Smith   29    4.60\n",
      "6   Jack   23    3.80\n",
      "The shape of the object is:\n",
      "(7, 3)\n"
     ]
    }
   ],
   "source": [
    "# shape\n",
    "# Returns a tuple representing the dimensionality of the DataFrame. \n",
    "# Tuple (a,b), where a represents the number of rows and b represents the number of columns.\n",
    "\n",
    "#Create a Dictionary of series\n",
    "d = {'Name':pd.Series(['Tom','James','Ricky','Vin','Steve','Smith','Jack']),\n",
    "   'Age':pd.Series([25,26,25,23,30,29,23]),\n",
    "   'Rating':pd.Series([4.23,3.24,3.98,2.56,3.20,4.6,3.8])}\n",
    " \n",
    "#Create a DataFrame\n",
    "df = pd.DataFrame(d)\n",
    "print (\"Our object is:\")\n",
    "print (df)\n",
    "print (\"The shape of the object is:\")\n",
    "print (df.shape)\n"
   ]
  },
  {
   "cell_type": "code",
   "execution_count": 29,
   "metadata": {},
   "outputs": [
    {
     "name": "stdout",
     "output_type": "stream",
     "text": [
      "Our object is:\n",
      "    Name  Age  Rating\n",
      "0    Tom   25    4.23\n",
      "1  James   26    3.24\n",
      "2  Ricky   25    3.98\n",
      "3    Vin   23    2.56\n",
      "4  Steve   30    3.20\n",
      "5  Smith   29    4.60\n",
      "6   Jack   23    3.80\n",
      "The total number of elements in our object is:\n",
      "21\n"
     ]
    }
   ],
   "source": [
    "# size\n",
    "# Returns the number of elements in the DataFrame.\n",
    "#Create a Dictionary of series\n",
    "d = {'Name':pd.Series(['Tom','James','Ricky','Vin','Steve','Smith','Jack']),\n",
    "   'Age':pd.Series([25,26,25,23,30,29,23]),\n",
    "   'Rating':pd.Series([4.23,3.24,3.98,2.56,3.20,4.6,3.8])}\n",
    " \n",
    "#Create a DataFrame\n",
    "df = pd.DataFrame(d)\n",
    "print (\"Our object is:\")\n",
    "print (df)\n",
    "print (\"The total number of elements in our object is:\")\n",
    "print (df.size)"
   ]
  },
  {
   "cell_type": "code",
   "execution_count": 30,
   "metadata": {},
   "outputs": [
    {
     "name": "stdout",
     "output_type": "stream",
     "text": [
      "Our object is:\n",
      "    Name  Age  Rating\n",
      "0    Tom   25    4.23\n",
      "1  James   26    3.24\n",
      "2  Ricky   25    3.98\n",
      "3    Vin   23    2.56\n",
      "4  Steve   30    3.20\n",
      "5  Smith   29    4.60\n",
      "6   Jack   23    3.80\n",
      "The actual data in our data frame is:\n",
      "[['Tom' 25 4.23]\n",
      " ['James' 26 3.24]\n",
      " ['Ricky' 25 3.98]\n",
      " ['Vin' 23 2.56]\n",
      " ['Steve' 30 3.2]\n",
      " ['Smith' 29 4.6]\n",
      " ['Jack' 23 3.8]]\n"
     ]
    }
   ],
   "source": [
    "# values\n",
    "# Returns the actual data in the DataFrame as an NDarray.\n",
    "#Create a Dictionary of series\n",
    "d = {'Name':pd.Series(['Tom','James','Ricky','Vin','Steve','Smith','Jack']),\n",
    "   'Age':pd.Series([25,26,25,23,30,29,23]),\n",
    "   'Rating':pd.Series([4.23,3.24,3.98,2.56,3.20,4.6,3.8])}\n",
    " \n",
    "#Create a DataFrame\n",
    "df = pd.DataFrame(d)\n",
    "print (\"Our object is:\")\n",
    "print (df)\n",
    "print (\"The actual data in our data frame is:\")\n",
    "print (df.values)"
   ]
  },
  {
   "cell_type": "code",
   "execution_count": 33,
   "metadata": {},
   "outputs": [
    {
     "name": "stdout",
     "output_type": "stream",
     "text": [
      "Our data frame is:\n",
      "    Name  Age  Rating\n",
      "0    Tom   25    4.23\n",
      "1  James   26    3.24\n",
      "2  Ricky   25    3.98\n",
      "3    Vin   23    2.56\n",
      "4  Steve   30    3.20\n",
      "5  Smith   29    4.60\n",
      "6   Jack   23    3.80\n",
      "The first two rows of the data frame is:\n",
      "    Name  Age  Rating\n",
      "0    Tom   25    4.23\n",
      "1  James   26    3.24\n",
      "The last two rows of the data frame is:\n",
      "    Name  Age  Rating\n",
      "5  Smith   29     4.6\n",
      "6   Jack   23     3.8\n"
     ]
    }
   ],
   "source": [
    "# Head & Tail\n",
    "# To view a small sample of a DataFrame object, use the head() and tail() methods.\n",
    "#Create a Dictionary of series\n",
    "d = {'Name':pd.Series(['Tom','James','Ricky','Vin','Steve','Smith','Jack']),\n",
    "   'Age':pd.Series([25,26,25,23,30,29,23]),\n",
    "   'Rating':pd.Series([4.23,3.24,3.98,2.56,3.20,4.6,3.8])}\n",
    "\n",
    "#Create a DataFrame\n",
    "df = pd.DataFrame(d)\n",
    "print (\"Our data frame is:\")\n",
    "print (df)\n",
    "print (\"The first two rows of the data frame is:\")\n",
    "print (df.head(2))\n",
    "print (\"The last two rows of the data frame is:\")\n",
    "print (df.tail(2))"
   ]
  },
  {
   "cell_type": "markdown",
   "metadata": {},
   "source": [
    "# 6) Python Pandas - Descriptive Statistics\n",
    "\n",
    "A large number of methods collectively compute descriptive statistics and other related operations on DataFrame. \n",
    "\n",
    "Most of these are aggregations like sum(), mean(), but some of them, like sumsum(), produce an object of the same size. \n",
    "\n",
    "Generally speaking, these methods take an axis argument, just like ndarray.{sum, std, ...}, but the axis can be specified by name or integer\n",
    "\n",
    "DataFrame − “index” (axis=0, default), “columns” (axis=1)"
   ]
  },
  {
   "cell_type": "code",
   "execution_count": 34,
   "metadata": {},
   "outputs": [
    {
     "name": "stdout",
     "output_type": "stream",
     "text": [
      "      Name  Age  Rating\n",
      "0      Tom   25    4.23\n",
      "1    James   26    3.24\n",
      "2    Ricky   25    3.98\n",
      "3      Vin   23    2.56\n",
      "4    Steve   30    3.20\n",
      "5    Smith   29    4.60\n",
      "6     Jack   23    3.80\n",
      "7      Lee   34    3.78\n",
      "8    David   40    2.98\n",
      "9   Gasper   30    4.80\n",
      "10  Betina   51    4.10\n",
      "11  Andres   46    3.65\n"
     ]
    }
   ],
   "source": [
    "# Let us create a DataFrame and use this object throughout this chapter for all the operations.\n",
    "import pandas as pd\n",
    "import numpy as np\n",
    "\n",
    "#Create a Dictionary of series\n",
    "d = {'Name':pd.Series(['Tom','James','Ricky','Vin','Steve','Smith','Jack',\n",
    "   'Lee','David','Gasper','Betina','Andres']),\n",
    "   'Age':pd.Series([25,26,25,23,30,29,23,34,40,30,51,46]),\n",
    "   'Rating':pd.Series([4.23,3.24,3.98,2.56,3.20,4.6,3.8,3.78,2.98,4.80,4.10,3.65])\n",
    "}\n",
    "\n",
    "#Create a DataFrame\n",
    "df = pd.DataFrame(d)\n",
    "print(df)"
   ]
  },
  {
   "cell_type": "code",
   "execution_count": 35,
   "metadata": {},
   "outputs": [
    {
     "name": "stdout",
     "output_type": "stream",
     "text": [
      "Name      TomJamesRickyVinSteveSmithJackLeeDavidGasperBe...\n",
      "Age                                                     382\n",
      "Rating                                                44.92\n",
      "dtype: object\n"
     ]
    }
   ],
   "source": [
    "# sum()\n",
    "# Returns the sum of the values for the requested axis. \n",
    "# By default, axis is index (axis=0).\n",
    "#Create a Dictionary of series\n",
    "d = {'Name':pd.Series(['Tom','James','Ricky','Vin','Steve','Smith','Jack',\n",
    "   'Lee','David','Gasper','Betina','Andres']),\n",
    "   'Age':pd.Series([25,26,25,23,30,29,23,34,40,30,51,46]),\n",
    "   'Rating':pd.Series([4.23,3.24,3.98,2.56,3.20,4.6,3.8,3.78,2.98,4.80,4.10,3.65])\n",
    "}\n",
    "\n",
    "#Create a DataFrame\n",
    "df = pd.DataFrame(d)\n",
    "print(df.sum())"
   ]
  },
  {
   "cell_type": "code",
   "execution_count": 38,
   "metadata": {},
   "outputs": [
    {
     "name": "stdout",
     "output_type": "stream",
     "text": [
      "0     29.23\n",
      "1     29.24\n",
      "2     28.98\n",
      "3     25.56\n",
      "4     33.20\n",
      "5     33.60\n",
      "6     26.80\n",
      "7     37.78\n",
      "8     42.98\n",
      "9     34.80\n",
      "10    55.10\n",
      "11    49.65\n",
      "dtype: float64\n"
     ]
    }
   ],
   "source": [
    "# axis=1\n",
    "# This syntax will give the output as shown below.\n",
    "df = pd.DataFrame(d)\n",
    "print(df.sum(1))"
   ]
  },
  {
   "cell_type": "code",
   "execution_count": 42,
   "metadata": {},
   "outputs": [
    {
     "name": "stdout",
     "output_type": "stream",
     "text": [
      "Age       31.833333\n",
      "Rating     3.743333\n",
      "dtype: float64\n"
     ]
    }
   ],
   "source": [
    "# mean()\n",
    "# Returns the average value\n",
    "df = pd.DataFrame(d)\n",
    "print(df.mean())"
   ]
  },
  {
   "cell_type": "code",
   "execution_count": 44,
   "metadata": {},
   "outputs": [
    {
     "name": "stdout",
     "output_type": "stream",
     "text": [
      "Age       9.232682\n",
      "Rating    0.661628\n",
      "dtype: float64\n"
     ]
    }
   ],
   "source": [
    "# std()\n",
    "# Returns the Bressel standard deviation of the numerical columns.\n",
    "df = pd.DataFrame(d)\n",
    "print(df.std())"
   ]
  },
  {
   "cell_type": "markdown",
   "metadata": {},
   "source": [
    "## 6.1) Functions & Description\n",
    "Let us now understand the functions under Descriptive Statistics in Python Pandas. The following table list down the important functions −\n",
    "\n",
    "|Sr.No.\t|Function\t|Description|\n",
    "|-|-|-|\n",
    "|1\t|count()\t|Number of non-null observations|\n",
    "|2\t|sum()\t|Sum of values|\n",
    "|3\t|mean()\t|Mean of Values|\n",
    "|4\t|median()\t|Median of Values|\n",
    "|5\t|mode()\t|Mode of values|\n",
    "|6\t|std()\t|Standard Deviation of the Values|\n",
    "|7\t|min()\t|Minimum Value|\n",
    "|8\t|max()\t|Maximum Value|\n",
    "|9\t|abs()\t|Absolute Value|\n",
    "|10\t|prod()\t|Product of Values|\n",
    "|11\t|cumsum()\t|Cumulative Sum|\n",
    "|12\t|cumprod()\t|Cumulative Product|\n",
    "\n",
    "Functions like sum(), cumsum() work with both numeric and character (or) string data elements without any error. \n",
    "\n",
    "Though n practice, character aggregations are never used generally, these functions do not throw any exception.\n",
    "\n",
    "Functions like abs(), cumprod() throw exception when the DataFrame contains character or string data because such operations cannot be performed."
   ]
  },
  {
   "cell_type": "code",
   "execution_count": 46,
   "metadata": {
    "scrolled": true
   },
   "outputs": [
    {
     "name": "stdout",
     "output_type": "stream",
     "text": [
      "             Age     Rating\n",
      "count  12.000000  12.000000\n",
      "mean   31.833333   3.743333\n",
      "std     9.232682   0.661628\n",
      "min    23.000000   2.560000\n",
      "25%    25.000000   3.230000\n",
      "50%    29.500000   3.790000\n",
      "75%    35.500000   4.132500\n",
      "max    51.000000   4.800000\n"
     ]
    }
   ],
   "source": [
    "# Summarizing Data\n",
    "# The describe() function computes a summary of statistics pertaining to the DataFrame columns.\n",
    "df = pd.DataFrame(d)\n",
    "print(df.describe())"
   ]
  },
  {
   "cell_type": "markdown",
   "metadata": {},
   "source": [
    "This function gives the mean, std and IQR values. \n",
    "\n",
    "And, function excludes the character columns and given summary about numeric columns. 'include' is the argument which is used to pass necessary information regarding what columns need to be considered for summarizing. \n",
    "\n",
    "Takes the list of values; by default, 'number'.\n",
    "\n",
    "object − Summarizes String columns\n",
    "\n",
    "number − Summarizes Numeric columns\n",
    "\n",
    "all − Summarizes all columns together (Should not pass it as a list value)\n",
    "\n",
    "Now, use the following statement in the program and check the output −"
   ]
  },
  {
   "cell_type": "code",
   "execution_count": 48,
   "metadata": {},
   "outputs": [
    {
     "name": "stdout",
     "output_type": "stream",
     "text": [
      "        Name\n",
      "count     12\n",
      "unique    12\n",
      "top     Jack\n",
      "freq       1\n"
     ]
    }
   ],
   "source": [
    "print(df.describe(include=['object']))"
   ]
  },
  {
   "cell_type": "code",
   "execution_count": 55,
   "metadata": {},
   "outputs": [
    {
     "name": "stdout",
     "output_type": "stream",
     "text": [
      "        Name        Age     Rating\n",
      "count     12  12.000000  12.000000\n",
      "unique    12        NaN        NaN\n",
      "top     Jack        NaN        NaN\n",
      "freq       1        NaN        NaN\n",
      "mean     NaN  31.833333   3.743333\n",
      "std      NaN   9.232682   0.661628\n",
      "min      NaN  23.000000   2.560000\n",
      "25%      NaN  25.000000   3.230000\n",
      "50%      NaN  29.500000   3.790000\n",
      "75%      NaN  35.500000   4.132500\n",
      "max      NaN  51.000000   4.800000\n"
     ]
    }
   ],
   "source": [
    "print(df.describe(include='all'))"
   ]
  },
  {
   "cell_type": "code",
   "execution_count": 56,
   "metadata": {},
   "outputs": [
    {
     "name": "stdout",
     "output_type": "stream",
     "text": [
      "             Age     Rating\n",
      "count  12.000000  12.000000\n",
      "mean   31.833333   3.743333\n",
      "std     9.232682   0.661628\n",
      "min    23.000000   2.560000\n",
      "25%    25.000000   3.230000\n",
      "50%    29.500000   3.790000\n",
      "75%    35.500000   4.132500\n",
      "max    51.000000   4.800000\n"
     ]
    }
   ],
   "source": [
    "print(df.describe(include='number'))"
   ]
  },
  {
   "cell_type": "code",
   "execution_count": 57,
   "metadata": {},
   "outputs": [
    {
     "name": "stdout",
     "output_type": "stream",
     "text": [
      "Age       31.833333\n",
      "Rating     3.743333\n",
      "Name: mean, dtype: float64\n"
     ]
    }
   ],
   "source": [
    "print(df.describe(include='number').loc['mean'])"
   ]
  },
  {
   "cell_type": "markdown",
   "metadata": {},
   "source": [
    "# 7) Python Pandas - Function Application\n",
    "\n",
    "To apply your own or another library’s functions to Pandas objects, you should be aware of the three important methods. \n",
    "\n",
    "The methods have been discussed below. The appropriate method to use depends on whether your function expects to operate on an entire DataFrame, row- or column-wise, or element wise.\n",
    "\n",
    "- Table wise Function Application: pipe()\n",
    "- Row or Column Wise Function Application: apply()\n",
    "- Element wise Function Application: applymap()\n",
    "\n",
    "Custom operations can be performed by passing the function and the appropriate number of parameters as pipe arguments. Thus, operation is performed on the whole DataFrame.\n",
    "\n",
    "For example, add a value 2 to all the elements in the DataFrame. "
   ]
  },
  {
   "cell_type": "code",
   "execution_count": 78,
   "metadata": {},
   "outputs": [
    {
     "name": "stdout",
     "output_type": "stream",
     "text": [
      "       col1      col2      col3\n",
      "0  1.913940 -1.253825  0.083235\n",
      "1 -0.662172 -0.182668 -0.109724\n",
      "2  1.984517 -0.464194  0.110963\n",
      "3  1.508906  0.585394 -1.886177\n",
      "4  1.480049 -1.346783  0.760450\n",
      "---------------\n",
      "       col1      col2      col3\n",
      "0  3.913940  0.746175  2.083235\n",
      "1  1.337828  1.817332  1.890276\n",
      "2  3.984517  1.535806  2.110963\n",
      "3  3.508906  2.585394  0.113823\n",
      "4  3.480049  0.653217  2.760450\n"
     ]
    }
   ],
   "source": [
    "def adder(ele1,ele2):\n",
    "   return ele1+ele2\n",
    "\n",
    "df = pd.DataFrame(np.random.randn(5,3),columns=['col1','col2','col3'])\n",
    "print(df)\n",
    "print('---------------')\n",
    "print(df.pipe(adder,2))"
   ]
  },
  {
   "cell_type": "markdown",
   "metadata": {},
   "source": [
    "## 7.1) Row or Column Wise Function Application\n",
    "Arbitrary functions can be applied along the axes of a DataFrame or Panel using the apply() method, which, like the descriptive statistics methods, takes an optional axis argument. \n",
    "\n",
    "By default, the operation performs column wise, taking each column as an array-like."
   ]
  },
  {
   "cell_type": "code",
   "execution_count": 77,
   "metadata": {},
   "outputs": [
    {
     "name": "stdout",
     "output_type": "stream",
     "text": [
      "       col1      col2      col3\n",
      "0  0.659650 -0.027919  0.097700\n",
      "1 -0.538469 -1.605197 -0.376595\n",
      "2 -1.581943  0.530840 -0.943131\n",
      "3  0.201015  1.977503  1.212939\n",
      "4  0.391447  0.235031  0.715727\n",
      "----------\n",
      "col1   -0.173660\n",
      "col2    0.222052\n",
      "col3    0.141328\n",
      "dtype: float64\n"
     ]
    }
   ],
   "source": [
    "df = pd.DataFrame(np.random.randn(5,3),columns=['col1','col2','col3'])\n",
    "print(df)\n",
    "print('----------')\n",
    "print(df.apply(np.mean))"
   ]
  },
  {
   "cell_type": "code",
   "execution_count": 76,
   "metadata": {},
   "outputs": [
    {
     "name": "stdout",
     "output_type": "stream",
     "text": [
      "       col1      col2      col3\n",
      "0 -0.419601 -0.584702  2.213787\n",
      "1 -0.016674  0.463008  2.181432\n",
      "2 -0.272618  1.238778  0.905509\n",
      "3  0.977969  1.151887  1.159171\n",
      "4 -1.331923  1.387525 -0.183433\n",
      "----------\n",
      "0    0.403162\n",
      "1    0.875922\n",
      "2    0.623890\n",
      "3    1.096342\n",
      "4   -0.042610\n",
      "dtype: float64\n"
     ]
    }
   ],
   "source": [
    "# By passing axis parameter, operations can be performed row wise.\n",
    "df = pd.DataFrame(np.random.randn(5,3),columns=['col1','col2','col3'])\n",
    "print(df)\n",
    "print('----------')\n",
    "print(df.apply(np.mean,axis=1))"
   ]
  },
  {
   "cell_type": "code",
   "execution_count": 75,
   "metadata": {},
   "outputs": [
    {
     "name": "stdout",
     "output_type": "stream",
     "text": [
      "       col1      col2      col3\n",
      "0 -1.234123  0.741644  1.054229\n",
      "1 -3.086060  1.101233  0.351777\n",
      "2  0.053133  0.635425 -0.353082\n",
      "3  0.410869 -1.892197 -0.625813\n",
      "4  0.294298  0.163654  1.864004\n",
      "----------\n",
      "col1    3.496928\n",
      "col2    2.993430\n",
      "col3    2.489817\n",
      "dtype: float64\n"
     ]
    }
   ],
   "source": [
    "df = pd.DataFrame(np.random.randn(5,3),columns=['col1','col2','col3'])\n",
    "print(df)\n",
    "print('----------')\n",
    "print(df.apply(lambda x: x.max() - x.min()))"
   ]
  },
  {
   "cell_type": "markdown",
   "metadata": {},
   "source": [
    "## 7.2) Element Wise Function Application\n",
    "Not all functions can be vectorized <br>\n",
    "(neither the NumPy arrays which return another array nor any value), \n",
    "\n",
    "the methods applymap() on DataFrame \n",
    "\n",
    "and analogously map() on Series \n",
    "\n",
    "accept any Python function taking a single value and returning a single value."
   ]
  },
  {
   "cell_type": "code",
   "execution_count": 74,
   "metadata": {},
   "outputs": [
    {
     "name": "stdout",
     "output_type": "stream",
     "text": [
      "       col1      col2      col3\n",
      "0 -1.018312  0.908817  0.055768\n",
      "1  0.620019 -0.863014 -0.232023\n",
      "2  0.577737  0.354875  0.216955\n",
      "3 -0.771666 -0.373549  0.315801\n",
      "4  0.314559 -0.548544  0.943734\n",
      "----------\n",
      "0   -101.831205\n",
      "1     62.001871\n",
      "2     57.773666\n",
      "3    -77.166569\n",
      "4     31.455869\n",
      "Name: col1, dtype: float64\n"
     ]
    }
   ],
   "source": [
    "df = pd.DataFrame(np.random.randn(5,3),columns=['col1','col2','col3'])\n",
    "print(df)\n",
    "print('----------')\n",
    "# My custom function\n",
    "print(df['col1'].map(lambda x:x*100))"
   ]
  },
  {
   "cell_type": "code",
   "execution_count": 79,
   "metadata": {},
   "outputs": [
    {
     "name": "stdout",
     "output_type": "stream",
     "text": [
      "       col1      col2      col3\n",
      "0 -0.312702  0.203102  0.786745\n",
      "1  0.102080 -1.600120 -0.014638\n",
      "2  0.781406 -0.509548  0.779168\n",
      "3 -0.987532  0.944156  0.602379\n",
      "4  1.556662  1.100223 -0.676889\n",
      "----------\n",
      "         col1        col2       col3\n",
      "0  -31.270225   20.310152  78.674451\n",
      "1   10.208040 -160.012004  -1.463849\n",
      "2   78.140562  -50.954839  77.916843\n",
      "3  -98.753237   94.415650  60.237946\n",
      "4  155.666230  110.022277 -67.688942\n"
     ]
    }
   ],
   "source": [
    "df = pd.DataFrame(np.random.randn(5,3),columns=['col1','col2','col3'])\n",
    "print(df)\n",
    "print('----------')\n",
    "print(df.applymap(lambda x:x*100))"
   ]
  },
  {
   "cell_type": "markdown",
   "metadata": {},
   "source": [
    "# 8) Python Pandas - Reindexing\n",
    "\n",
    "Reindexing changes the row labels and column labels of a DataFrame. \n",
    "\n",
    "To reindex means to conform the data to match a given set of labels along a particular axis.\n",
    "\n",
    "Multiple operations can be accomplished through indexing like −\n",
    "\n",
    "Reorder the existing data to match a new set of labels.\n",
    "\n",
    "Insert missing value (NA) markers in label locations where no data for the label existed."
   ]
  },
  {
   "cell_type": "code",
   "execution_count": 80,
   "metadata": {},
   "outputs": [
    {
     "name": "stdout",
     "output_type": "stream",
     "text": [
      "           A       C   B\n",
      "0 2016-01-01    High NaN\n",
      "2 2016-01-03    High NaN\n",
      "5 2016-01-06  Medium NaN\n"
     ]
    }
   ],
   "source": [
    "import pandas as pd\n",
    "import numpy as np\n",
    "\n",
    "N=20\n",
    "\n",
    "df = pd.DataFrame({\n",
    "   'A': pd.date_range(start='2016-01-01',periods=N,freq='D'),\n",
    "   'x': np.linspace(0,stop=N-1,num=N),\n",
    "   'y': np.random.rand(N),\n",
    "   'C': np.random.choice(['Low','Medium','High'],N).tolist(),\n",
    "   'D': np.random.normal(100, 10, size=(N)).tolist()\n",
    "})\n",
    "\n",
    "#reindex the DataFrame\n",
    "df_reindexed = df.reindex(index=[0,2,5], columns=['A', 'C', 'B'])\n",
    "\n",
    "print(df_reindexed)"
   ]
  },
  {
   "cell_type": "markdown",
   "metadata": {},
   "source": [
    "## 8.1) Reindex to Align with Other Objects\n",
    "You may wish to take an object and reindex its axes to be labeled the same as another object. Consider the following example to understand the same.\n",
    "\n",
    "Here, the df1 DataFrame is altered and reindexed like df2. \n",
    "\n",
    "The column names should be matched or else NAN will be added for the entire column label."
   ]
  },
  {
   "cell_type": "code",
   "execution_count": 86,
   "metadata": {},
   "outputs": [
    {
     "name": "stdout",
     "output_type": "stream",
     "text": [
      "       col1      col2      col3\n",
      "0  1.206518 -0.951724  0.115935\n",
      "1 -0.513212  1.469051  0.163935\n",
      "2 -0.976731  0.434842 -0.608216\n",
      "3 -1.079990  1.213452 -0.397083\n",
      "4  0.496757  2.049719  1.034744\n",
      "5 -0.638728 -0.307256  1.221415\n",
      "6 -0.508381  0.053515 -1.646328\n",
      "7 -0.414141 -0.008552  1.307207\n",
      "8  0.966929  0.677408 -0.694104\n",
      "9 -2.015466 -2.130360  0.736448\n",
      "------\n",
      "       col1      col2      col3\n",
      "0  1.206518 -0.951724  0.115935\n",
      "1 -0.513212  1.469051  0.163935\n",
      "2 -0.976731  0.434842 -0.608216\n",
      "3 -1.079990  1.213452 -0.397083\n",
      "4  0.496757  2.049719  1.034744\n",
      "5 -0.638728 -0.307256  1.221415\n",
      "6 -0.508381  0.053515 -1.646328\n",
      "------\n",
      "       col1      col2\n",
      "0  1.206518 -0.951724\n",
      "1 -0.513212  1.469051\n",
      "------\n",
      "       col1      col2  col3  col4\n",
      "0  1.206518 -0.951724   NaN   NaN\n",
      "1 -0.513212  1.469051   NaN   NaN\n",
      "2       NaN       NaN   NaN   NaN\n",
      "3       NaN       NaN   NaN   NaN\n"
     ]
    }
   ],
   "source": [
    "df1 = pd.DataFrame(np.random.randn(10,3),columns=['col1','col2','col3'])\n",
    "df2 = pd.DataFrame(np.random.randn(7,3),columns=['col1','col2','col3'])\n",
    "df3 = pd.DataFrame(np.random.randn(2,2),columns=['col1','col2'])\n",
    "df4 = pd.DataFrame(np.random.randn(4,4),columns=['col1','col2','col3','col4'])\n",
    "print(df1)\n",
    "print('------')\n",
    "df1 = df1.reindex_like(df2)\n",
    "print(df1)\n",
    "print('------')\n",
    "df1 = df1.reindex_like(df3)\n",
    "print(df1)\n",
    "print('------')\n",
    "df1 = df1.reindex_like(df4)\n",
    "print(df1)"
   ]
  },
  {
   "cell_type": "markdown",
   "metadata": {},
   "source": [
    "## 8.2) Filling while ReIndexing\n",
    "\n",
    "reindex() takes an optional parameter method which is a filling method with values as follows −\n",
    "\n",
    "pad/ffill − Fill values forward\n",
    "\n",
    "bfill/backfill − Fill values backward\n",
    "\n",
    "nearest − Fill from the nearest index values"
   ]
  },
  {
   "cell_type": "code",
   "execution_count": 87,
   "metadata": {},
   "outputs": [
    {
     "name": "stdout",
     "output_type": "stream",
     "text": [
      "       col1      col2      col3\n",
      "0  1.180596 -1.979792  0.979817\n",
      "1  0.652017  0.427577 -1.281322\n",
      "2       NaN       NaN       NaN\n",
      "3       NaN       NaN       NaN\n",
      "4       NaN       NaN       NaN\n",
      "5       NaN       NaN       NaN\n",
      "Data Frame with Forward Fill:\n",
      "       col1      col2      col3\n",
      "0  1.180596 -1.979792  0.979817\n",
      "1  0.652017  0.427577 -1.281322\n",
      "2  0.652017  0.427577 -1.281322\n",
      "3  0.652017  0.427577 -1.281322\n",
      "4  0.652017  0.427577 -1.281322\n",
      "5  0.652017  0.427577 -1.281322\n"
     ]
    }
   ],
   "source": [
    "df1 = pd.DataFrame(np.random.randn(6,3),columns=['col1','col2','col3'])\n",
    "df2 = pd.DataFrame(np.random.randn(2,3),columns=['col1','col2','col3'])\n",
    "\n",
    "# Padding NAN's\n",
    "print (df2.reindex_like(df1))\n",
    "\n",
    "# Now Fill the NAN's with preceding Values\n",
    "print (\"Data Frame with Forward Fill:\")\n",
    "print (df2.reindex_like(df1,method='ffill'))"
   ]
  },
  {
   "cell_type": "markdown",
   "metadata": {},
   "source": [
    "## 8.3) Limits on Filling while Reindexing\n",
    "\n",
    "The limit argument provides additional control over filling while reindexing. \n",
    "\n",
    "Limit specifies the maximum count of consecutive matches. \n",
    "\n",
    "Let us consider the following example to understand the same −\n",
    "\n",
    "Note − Observe, only the 7th row is filled by the preceding 6th row. Then, the rows are left as they are."
   ]
  },
  {
   "cell_type": "code",
   "execution_count": 88,
   "metadata": {},
   "outputs": [
    {
     "name": "stdout",
     "output_type": "stream",
     "text": [
      "       col1      col2      col3\n",
      "0 -1.882952 -0.722276 -0.566703\n",
      "1 -1.319018 -1.163026 -0.694021\n",
      "2       NaN       NaN       NaN\n",
      "3       NaN       NaN       NaN\n",
      "4       NaN       NaN       NaN\n",
      "5       NaN       NaN       NaN\n",
      "Data Frame with Forward Fill limiting to 1:\n",
      "       col1      col2      col3\n",
      "0 -1.882952 -0.722276 -0.566703\n",
      "1 -1.319018 -1.163026 -0.694021\n",
      "2 -1.319018 -1.163026 -0.694021\n",
      "3       NaN       NaN       NaN\n",
      "4       NaN       NaN       NaN\n",
      "5       NaN       NaN       NaN\n"
     ]
    }
   ],
   "source": [
    "df1 = pd.DataFrame(np.random.randn(6,3),columns=['col1','col2','col3'])\n",
    "df2 = pd.DataFrame(np.random.randn(2,3),columns=['col1','col2','col3'])\n",
    "\n",
    "# Padding NAN's\n",
    "print (df2.reindex_like(df1))\n",
    "\n",
    "# Now Fill the NAN's with preceding Values\n",
    "print (\"Data Frame with Forward Fill limiting to 1:\")\n",
    "print (df2.reindex_like(df1,method='ffill',limit=1))"
   ]
  },
  {
   "cell_type": "markdown",
   "metadata": {},
   "source": [
    "## 8.4) Renaming\n",
    "The rename() method allows you to relabel an axis based on some mapping (a dict or Series) or an arbitrary function.\n",
    "\n",
    "Let us consider the following example to understand this −"
   ]
  },
  {
   "cell_type": "code",
   "execution_count": 89,
   "metadata": {},
   "outputs": [
    {
     "name": "stdout",
     "output_type": "stream",
     "text": [
      "       col1      col2      col3\n",
      "0 -0.196776 -0.834282 -1.129571\n",
      "1 -0.511678 -0.782796  0.089167\n",
      "2 -0.391352 -0.569292  0.718482\n",
      "3  0.284758 -0.843523 -0.172946\n",
      "4  0.401410  0.999131 -0.594649\n",
      "5 -0.069883 -1.766336 -1.764387\n",
      "After renaming the rows and columns:\n",
      "              c1        c2      col3\n",
      "apple  -0.196776 -0.834282 -1.129571\n",
      "banana -0.511678 -0.782796  0.089167\n",
      "durian -0.391352 -0.569292  0.718482\n",
      "3       0.284758 -0.843523 -0.172946\n",
      "4       0.401410  0.999131 -0.594649\n",
      "5      -0.069883 -1.766336 -1.764387\n"
     ]
    }
   ],
   "source": [
    "df1 = pd.DataFrame(np.random.randn(6,3),columns=['col1','col2','col3'])\n",
    "print (df1)\n",
    "\n",
    "print (\"After renaming the rows and columns:\")\n",
    "print (df1.rename(columns={'col1' : 'c1', 'col2' : 'c2'},\n",
    "index = {0 : 'apple', 1 : 'banana', 2 : 'durian'}))"
   ]
  },
  {
   "cell_type": "markdown",
   "metadata": {},
   "source": [
    "# 9) Python Pandas - Iteration\n",
    "\n",
    "The behavior of basic iteration over Pandas objects depends on the type. \n",
    "\n",
    "When iterating over a Series, it is regarded as array-like, and basic iteration produces the values. Other data structures, like DataFrame and Panel, follow the dict-like convention of iterating over the keys of the objects.\n",
    "\n",
    "In short, basic iteration (for i in object) produces −\n",
    "\n",
    "Series − values\n",
    "\n",
    "DataFrame − column labels\n",
    "\n",
    "Panel − item labels"
   ]
  },
  {
   "cell_type": "markdown",
   "metadata": {},
   "source": [
    "## Iterating a DataFrame\n",
    "Iterating a DataFrame gives column names. Let us consider the following example to understand the same."
   ]
  },
  {
   "cell_type": "code",
   "execution_count": 91,
   "metadata": {},
   "outputs": [
    {
     "name": "stdout",
     "output_type": "stream",
     "text": [
      "A\n",
      "x\n",
      "y\n",
      "C\n",
      "D\n"
     ]
    }
   ],
   "source": [
    "N=20\n",
    "df = pd.DataFrame({\n",
    "   'A': pd.date_range(start='2016-01-01',periods=N,freq='D'),\n",
    "   'x': np.linspace(0,stop=N-1,num=N),\n",
    "   'y': np.random.rand(N),\n",
    "   'C': np.random.choice(['Low','Medium','High'],N).tolist(),\n",
    "   'D': np.random.normal(100, 10, size=(N)).tolist()\n",
    "   })\n",
    "\n",
    "for col in df:\n",
    "   print (col)"
   ]
  },
  {
   "cell_type": "markdown",
   "metadata": {},
   "source": [
    "## iteritems()\n",
    "Iterates over each column as key, value pair with label as key and column value as a Series object."
   ]
  },
  {
   "cell_type": "code",
   "execution_count": 92,
   "metadata": {},
   "outputs": [
    {
     "name": "stdout",
     "output_type": "stream",
     "text": [
      "col1 0    0.516344\n",
      "1    0.373297\n",
      "2   -1.359600\n",
      "3   -0.457608\n",
      "Name: col1, dtype: float64\n",
      "col2 0    0.275769\n",
      "1    2.138695\n",
      "2   -1.307691\n",
      "3    1.727049\n",
      "Name: col2, dtype: float64\n",
      "col3 0   -0.588594\n",
      "1    1.619734\n",
      "2    0.195442\n",
      "3    0.522783\n",
      "Name: col3, dtype: float64\n"
     ]
    }
   ],
   "source": [
    "df = pd.DataFrame(np.random.randn(4,3),columns=['col1','col2','col3'])\n",
    "for key,value in df.iteritems():\n",
    "   print (key,value)"
   ]
  },
  {
   "cell_type": "markdown",
   "metadata": {},
   "source": [
    "## iterrows()\n",
    "iterrows() returns the iterator yielding each index value along with a series containing the data in each row."
   ]
  },
  {
   "cell_type": "code",
   "execution_count": 93,
   "metadata": {},
   "outputs": [
    {
     "name": "stdout",
     "output_type": "stream",
     "text": [
      "0 col1    1.742466\n",
      "col2   -0.190905\n",
      "col3   -0.688590\n",
      "Name: 0, dtype: float64\n",
      "1 col1    0.176350\n",
      "col2    0.361827\n",
      "col3   -0.204579\n",
      "Name: 1, dtype: float64\n",
      "2 col1   -2.227340\n",
      "col2   -0.158842\n",
      "col3   -2.192448\n",
      "Name: 2, dtype: float64\n",
      "3 col1    0.142847\n",
      "col2   -0.483820\n",
      "col3   -0.158134\n",
      "Name: 3, dtype: float64\n"
     ]
    }
   ],
   "source": [
    "df = pd.DataFrame(np.random.randn(4,3),columns = ['col1','col2','col3'])\n",
    "for row_index,row in df.iterrows():\n",
    "   print (row_index,row)"
   ]
  },
  {
   "cell_type": "markdown",
   "metadata": {},
   "source": [
    "## itertuples()\n",
    "itertuples() method will return an iterator yielding a named tuple for each row in the DataFrame. \n",
    "\n",
    "The first element of the tuple will be the row’s corresponding index value, while the remaining values are the row values."
   ]
  },
  {
   "cell_type": "code",
   "execution_count": 94,
   "metadata": {},
   "outputs": [
    {
     "name": "stdout",
     "output_type": "stream",
     "text": [
      "Pandas(Index=0, col1=-0.46972328579244405, col2=3.143296503210067, col3=-0.039911479524954746)\n",
      "Pandas(Index=1, col1=1.2272742934665708, col2=1.5879282796288032, col3=-0.24122426168704922)\n",
      "Pandas(Index=2, col1=0.1916165555742965, col2=1.1366746114348907, col3=0.16655503325078297)\n",
      "Pandas(Index=3, col1=2.771346027772093, col2=0.8603069676375422, col3=0.9517625234075735)\n"
     ]
    }
   ],
   "source": [
    "df = pd.DataFrame(np.random.randn(4,3),columns = ['col1','col2','col3'])\n",
    "for row in df.itertuples():\n",
    "    print (row)"
   ]
  },
  {
   "cell_type": "markdown",
   "metadata": {},
   "source": [
    "# 10) Python Pandas - Sorting\n",
    "\n",
    "There are two kinds of sorting available in Pandas. They are −\n",
    "\n",
    "- By label\n",
    "- By Actual Value"
   ]
  },
  {
   "cell_type": "code",
   "execution_count": 96,
   "metadata": {},
   "outputs": [
    {
     "name": "stdout",
     "output_type": "stream",
     "text": [
      "       col2      col1\n",
      "1  0.761392 -0.019561\n",
      "4 -1.502611  1.650270\n",
      "6  1.051382  0.124045\n",
      "2 -1.995197  0.273147\n",
      "3  0.432691  1.035238\n",
      "5  0.045451 -0.033926\n",
      "9  0.088644 -0.551866\n",
      "8 -1.107953  0.116830\n",
      "0 -0.689022 -0.898038\n",
      "7  1.112481 -1.721484\n"
     ]
    }
   ],
   "source": [
    "unsorted_df=pd.DataFrame(np.random.randn(10,2),index=[1,4,6,2,3,5,9,8,0,7],columns=['col2','col1'])\n",
    "print (unsorted_df)"
   ]
  },
  {
   "cell_type": "markdown",
   "metadata": {},
   "source": [
    "## By Label\n",
    "Using the sort_index() method, by passing the axis arguments and the order of sorting, DataFrame can be sorted. By default, sorting is done on row labels in ascending orde"
   ]
  },
  {
   "cell_type": "code",
   "execution_count": 98,
   "metadata": {},
   "outputs": [
    {
     "name": "stdout",
     "output_type": "stream",
     "text": [
      "       col2      col1\n",
      "0 -0.629999  0.015565\n",
      "1  0.962501  0.008565\n",
      "2 -0.858136 -0.587373\n",
      "3  0.680760  0.197507\n",
      "4  0.255097  1.449897\n",
      "5 -0.867368 -0.544947\n",
      "6  1.654593  1.891764\n",
      "7 -0.076118  0.072947\n",
      "8 -2.581441 -2.016118\n",
      "9 -0.158631 -0.204769\n"
     ]
    }
   ],
   "source": [
    "unsorted_df = pd.DataFrame(np.random.randn(10,2),index=[1,4,6,2,3,5,9,8,0,7],columns = ['col2','col1'])\n",
    "\n",
    "sorted_df=unsorted_df.sort_index()\n",
    "print (sorted_df)"
   ]
  },
  {
   "cell_type": "markdown",
   "metadata": {},
   "source": [
    "## Order of Sorting\n",
    "By passing the Boolean value to ascending parameter, the order of the sorting can be controlled. Let us consider the following example to understand the same."
   ]
  },
  {
   "cell_type": "code",
   "execution_count": 102,
   "metadata": {},
   "outputs": [
    {
     "name": "stdout",
     "output_type": "stream",
     "text": [
      "       col2      col1\n",
      "9  0.320175  0.717297\n",
      "8  1.313146 -1.854825\n",
      "7  0.741328 -0.707559\n",
      "6 -0.873185  0.609666\n",
      "5 -1.409327 -0.939388\n",
      "4  0.493388 -1.195138\n",
      "3  0.806810  0.681326\n",
      "2 -0.259036  0.435611\n",
      "1  0.352179  0.887263\n",
      "0  0.095931 -0.800361\n"
     ]
    }
   ],
   "source": [
    "unsorted_df = pd.DataFrame(np.random.randn(10,2),index=[1,4,6,2,3,5,9,8,0,7],columns = ['col2','col1'])\n",
    "\n",
    "sorted_df = unsorted_df.sort_index(ascending=False)\n",
    "print (sorted_df)"
   ]
  },
  {
   "cell_type": "markdown",
   "metadata": {},
   "source": [
    "## Sort the Columns\n",
    "By passing the axis argument with a value 0 or 1, the sorting can be done on the column labels. By default, axis=0, sort by row. Let us consider the following example to understand the same."
   ]
  },
  {
   "cell_type": "code",
   "execution_count": 103,
   "metadata": {},
   "outputs": [
    {
     "name": "stdout",
     "output_type": "stream",
     "text": [
      "       col1      col2\n",
      "1  0.041546 -0.517166\n",
      "4 -0.806516  0.640516\n",
      "6 -1.273199  2.095434\n",
      "2  1.251439  0.137462\n",
      "3  0.694747  0.576557\n",
      "5  0.756727  0.087464\n",
      "9  1.181048 -0.900617\n",
      "8  1.474624  0.392552\n",
      "0  0.668391  0.318459\n",
      "7 -0.598738 -0.694271\n"
     ]
    }
   ],
   "source": [
    "unsorted_df = pd.DataFrame(np.random.randn(10,2),index=[1,4,6,2,3,5,9,8,0,7],columns = ['col2','col1'])\n",
    " \n",
    "sorted_df=unsorted_df.sort_index(axis=1)\n",
    "\n",
    "print (sorted_df)"
   ]
  },
  {
   "cell_type": "markdown",
   "metadata": {},
   "source": [
    "## By Value\n",
    "Like index sorting, sort_values() is the method for sorting by values. It accepts a 'by' argument which will use the column name of the DataFrame with which the values are to be sorted."
   ]
  },
  {
   "cell_type": "code",
   "execution_count": 106,
   "metadata": {},
   "outputs": [
    {
     "name": "stdout",
     "output_type": "stream",
     "text": [
      "   col1  col2\n",
      "1     1     3\n",
      "2     1     2\n",
      "3     1     4\n",
      "0     2     1\n"
     ]
    }
   ],
   "source": [
    "unsorted_df = pd.DataFrame({'col1':[2,1,1,1],'col2':[1,3,2,4]})\n",
    "sorted_df = unsorted_df.sort_values(by='col1')\n",
    "\n",
    "print (sorted_df)"
   ]
  },
  {
   "cell_type": "markdown",
   "metadata": {},
   "source": [
    "Observe, col1 values are sorted and the respective col2 value and row index will alter along with col1. Thus, they look unsorted.\n",
    "\n",
    "'by' argument takes a list of column values."
   ]
  },
  {
   "cell_type": "code",
   "execution_count": 107,
   "metadata": {},
   "outputs": [
    {
     "name": "stdout",
     "output_type": "stream",
     "text": [
      "   col1  col2\n",
      "2     1     2\n",
      "1     1     3\n",
      "3     1     4\n",
      "0     2     1\n"
     ]
    }
   ],
   "source": [
    "unsorted_df = pd.DataFrame({'col1':[2,1,1,1],'col2':[1,3,2,4]})\n",
    "sorted_df = unsorted_df.sort_values(by=['col1','col2'])\n",
    "\n",
    "print (sorted_df)"
   ]
  },
  {
   "cell_type": "code",
   "execution_count": null,
   "metadata": {},
   "outputs": [],
   "source": []
  }
 ],
 "metadata": {
  "kernelspec": {
   "display_name": "Python 3",
   "language": "python",
   "name": "python3"
  },
  "language_info": {
   "codemirror_mode": {
    "name": "ipython",
    "version": 3
   },
   "file_extension": ".py",
   "mimetype": "text/x-python",
   "name": "python",
   "nbconvert_exporter": "python",
   "pygments_lexer": "ipython3",
   "version": "3.7.6"
  }
 },
 "nbformat": 4,
 "nbformat_minor": 4
}
